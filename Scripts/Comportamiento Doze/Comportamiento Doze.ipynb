{
 "cells": [
  {
   "cell_type": "markdown",
   "id": "a694f164",
   "metadata": {},
   "source": [
    "## Comportamiento Doze en Android para fetches"
   ]
  },
  {
   "cell_type": "code",
   "execution_count": 1,
   "id": "e74ca83d",
   "metadata": {},
   "outputs": [],
   "source": [
    "import matplotlib\n",
    "import matplotlib.pyplot as plt\n",
    "import matplotlib.dates as mdates\n",
    "\n",
    "from urllib.request import urlopen\n",
    "import json\n",
    "plt.rcParams['figure.figsize'] = [10, 5]\n",
    "matplotlib.rcParams['timezone'] = 'AR'\n",
    "\n",
    "link = 'link a URL'\n",
    "f = urlopen(link)\n",
    "myfile = f.read()\n"
   ]
  },
  {
   "cell_type": "code",
   "execution_count": 2,
   "id": "6646d811",
   "metadata": {},
   "outputs": [],
   "source": [
    "jsonData = json.loads(myfile)"
   ]
  },
  {
   "cell_type": "code",
   "execution_count": 3,
   "id": "8e55d356",
   "metadata": {},
   "outputs": [],
   "source": [
    "def histogram(realTimeData, phoneModel, tripName):\n",
    "    ping_list = [t['timestamp']/1e3 for t in realTimeData]\n",
    "    ping_list = mdates.epoch2num(ping_list)\n",
    "    fig, ax = plt.subplots(1,1)\n",
    "    ax.hist(ping_list, bins=50, color='lightblue')\n",
    "    ax.xaxis.set_major_locator(mdates.MinuteLocator(interval=15))\n",
    "    ax.xaxis.set_major_formatter(mdates.DateFormatter('%H:%M'))\n",
    "    plt.locator_params(axis='y', nbins=10)\n",
    "    ax.set_title('%s - %s'%(tripName, phoneModel))\n",
    "    ax.set_xlabel('Tiempo')\n",
    "    ax.set_ylabel('Solicitudes')\n",
    "    plt.savefig(phoneModel+'_pingtest.jpg')\n",
    "    plt.show()\n",
    "   "
   ]
  },
  {
   "cell_type": "code",
   "execution_count": 4,
   "id": "96b60cc6",
   "metadata": {},
   "outputs": [
    {
     "name": "stderr",
     "output_type": "stream",
     "text": [
      "/var/folders/fw/rwgc1g5904j4m0wl48kr3pyw0000gn/T/ipykernel_39956/529531230.py:3: MatplotlibDeprecationWarning: \n",
      "The epoch2num function was deprecated in Matplotlib 3.5 and will be removed two minor releases later. Use `date2num(datetime.utcfromtimestamp(e))<.date2num>` instead.\n",
      "  ping_list = mdates.epoch2num(ping_list)\n"
     ]
    },
    {
     "data": {
      "image/png": "[encoded data removed]",
      "text/plain": [
       "<Figure size 432x288 with 1 Axes>"
      ]
     },
     "metadata": {
      "needs_background": "light"
     },
     "output_type": "display_data"
    }
   ],
   "source": [
    "histogram(jsonData['realTimeData'], 'Moto X - Android 5.1', 'Rosario-Nogoyá')"
   ]
  },
  {
   "cell_type": "code",
   "execution_count": null,
   "id": "571a58b3",
   "metadata": {},
   "outputs": [],
   "source": []
  },
  {
   "cell_type": "code",
   "execution_count": null,
   "id": "b622dba1",
   "metadata": {},
   "outputs": [],
   "source": []
  },
  {
   "cell_type": "code",
   "execution_count": null,
   "id": "a4849d29",
   "metadata": {},
   "outputs": [],
   "source": []
  }
 ],
 "metadata": {
  "kernelspec": {
   "display_name": "Python 3 (ipykernel)",
   "language": "python",
   "name": "python3"
  },
  "language_info": {
   "codemirror_mode": {
    "name": "ipython",
    "version": 3
   },
   "file_extension": ".py",
   "mimetype": "text/x-python",
   "name": "python",
   "nbconvert_exporter": "python",
   "pygments_lexer": "ipython3",
   "version": "3.9.15"
  }
 },
 "nbformat": 4,
 "nbformat_minor": 5
}
